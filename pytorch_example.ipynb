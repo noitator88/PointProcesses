{
 "cells": [
  {
   "cell_type": "markdown",
   "id": "c6524c78-87dd-4210-b576-a1c0b34ad341",
   "metadata": {},
   "source": [
    "# LEARNING PYTORCH WITH EXAMPLES\n",
    "\n",
    "https://pytorch.org/tutorials/beginner/pytorch_with_examples.html\n",
    "\n",
    "利用numpy实现的nn例子"
   ]
  },
  {
   "cell_type": "code",
   "execution_count": 1,
   "id": "215a8a1c-fe66-40d6-bbf0-556117ec4a67",
   "metadata": {},
   "outputs": [
    {
     "name": "stdout",
     "output_type": "stream",
     "text": [
      "99 2196.4678048521546\n",
      "199 1456.0998211564292\n",
      "299 966.3294137537903\n",
      "399 642.3235183223082\n",
      "499 427.9718715067659\n",
      "599 286.159142936447\n",
      "699 192.3340336769586\n",
      "799 130.25578029420956\n",
      "899 89.18077909972988\n",
      "999 62.00170969255885\n",
      "1099 44.01665418523376\n",
      "1199 32.11491110880465\n",
      "1299 24.23842652343273\n",
      "1399 19.025532085717032\n",
      "1499 15.575272561349314\n",
      "1599 13.291500681242187\n",
      "1699 11.779737662412014\n",
      "1799 10.77893882818106\n",
      "1899 10.116349992060128\n",
      "1999 9.677639519709546\n",
      "Result: y = -0.0048690877886956715 + 0.8285786246186135 x + 0.0008399986655205395 x^2 + -0.08932455870410672 x^3\n"
     ]
    }
   ],
   "source": [
    "import numpy as np\n",
    "import math\n",
    "\n",
    "# Create random input and output data\n",
    "x = np.linspace(-math.pi, math.pi, 2000)\n",
    "y = np.sin(x)\n",
    "\n",
    "# Randomly initialize weights\n",
    "a = np.random.randn()\n",
    "b = np.random.randn()\n",
    "c = np.random.randn()\n",
    "d = np.random.randn()\n",
    "\n",
    "learning_rate = 1e-6\n",
    "for t in range(2000):\n",
    "    # Forward pass: compute predicted y\n",
    "    # y = a + b x + c x^2 + d x^3\n",
    "    y_pred = a + b * x + c * x ** 2 + d * x ** 3\n",
    "\n",
    "    # Compute and print loss\n",
    "    loss = np.square(y_pred - y).sum()\n",
    "    if t % 100 == 99:\n",
    "        print(t, loss)\n",
    "\n",
    "    # Backprop to compute gradients of a, b, c, d with respect to loss\n",
    "    grad_y_pred = 2.0 * (y_pred - y)\n",
    "    grad_a = grad_y_pred.sum()\n",
    "    grad_b = (grad_y_pred * x).sum()\n",
    "    grad_c = (grad_y_pred * x ** 2).sum()\n",
    "    grad_d = (grad_y_pred * x ** 3).sum()\n",
    "\n",
    "    # Update weights\n",
    "    a -= learning_rate * grad_a\n",
    "    b -= learning_rate * grad_b\n",
    "    c -= learning_rate * grad_c\n",
    "    d -= learning_rate * grad_d\n",
    "\n",
    "print(f'Result: y = {a} + {b} x + {c} x^2 + {d} x^3')"
   ]
  },
  {
   "cell_type": "code",
   "execution_count": null,
   "id": "01b5a165-a962-44b5-80c1-3eca6e912a9e",
   "metadata": {},
   "outputs": [],
   "source": []
  }
 ],
 "metadata": {
  "kernelspec": {
   "display_name": "Python 3 (ipykernel)",
   "language": "python",
   "name": "python3"
  },
  "language_info": {
   "codemirror_mode": {
    "name": "ipython",
    "version": 3
   },
   "file_extension": ".py",
   "mimetype": "text/x-python",
   "name": "python",
   "nbconvert_exporter": "python",
   "pygments_lexer": "ipython3",
   "version": "3.9.13"
  }
 },
 "nbformat": 4,
 "nbformat_minor": 5
}
